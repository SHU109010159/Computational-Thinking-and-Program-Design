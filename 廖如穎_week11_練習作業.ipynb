{
  "nbformat": 4,
  "nbformat_minor": 0,
  "metadata": {
    "colab": {
      "name": "廖如穎-week11-練習作業.ipynb",
      "provenance": [],
      "authorship_tag": "ABX9TyPQuu/O6nODAVNM0dC1eq9s",
      "include_colab_link": true
    },
    "kernelspec": {
      "name": "python3",
      "display_name": "Python 3"
    },
    "language_info": {
      "name": "python"
    }
  },
  "cells": [
    {
      "cell_type": "markdown",
      "metadata": {
        "id": "view-in-github",
        "colab_type": "text"
      },
      "source": [
        "<a href=\"https://colab.research.google.com/github/SHU109010159/Computational-Thinking-and-Program-Design/blob/main/%E5%BB%96%E5%A6%82%E7%A9%8E_week11_%E7%B7%B4%E7%BF%92%E4%BD%9C%E6%A5%AD.ipynb\" target=\"_parent\"><img src=\"https://colab.research.google.com/assets/colab-badge.svg\" alt=\"Open In Colab\"/></a>"
      ]
    },
    {
      "cell_type": "code",
      "metadata": {
        "colab": {
          "base_uri": "https://localhost:8080/",
          "height": 130
        },
        "id": "UkpRg595Yb4D",
        "outputId": "f9a6203e-465b-47de-9c59-ca2cba81d50d"
      },
      "source": [
        "True\n",
        "False\n",
        "  \n",
        "true\n",
        "false\n",
        "TRUE\n",
        "FALSE\n",
        "Traceback (most recent call last):\n",
        "\n",
        "true\n",
        "type(True)\n",
        "(False)"
      ],
      "execution_count": 3,
      "outputs": [
        {
          "output_type": "error",
          "ename": "SyntaxError",
          "evalue": "ignored",
          "traceback": [
            "\u001b[0;36m  File \u001b[0;32m\"<ipython-input-3-8e0b7b0a9c05>\"\u001b[0;36m, line \u001b[0;32m8\u001b[0m\n\u001b[0;31m    Traceback (most recent call last):\u001b[0m\n\u001b[0m                         ^\u001b[0m\n\u001b[0;31mSyntaxError\u001b[0m\u001b[0;31m:\u001b[0m invalid syntax\n"
          ]
        }
      ]
    },
    {
      "cell_type": "code",
      "metadata": {
        "colab": {
          "base_uri": "https://localhost:8080/"
        },
        "id": "xspPSUXLZQRN",
        "outputId": "1c8637fa-c373-4899-ed43-95f3fc2aa25b"
      },
      "source": [
        "\n",
        "True\n",
        "False\n",
        "True\n",
        "False\n",
        "\n",
        "\n",
        "bool(1)\n",
        "bool(0)\n",
        "True\n",
        "False"
      ],
      "execution_count": 4,
      "outputs": [
        {
          "output_type": "execute_result",
          "data": {
            "text/plain": [
              "False"
            ]
          },
          "metadata": {
            "tags": []
          },
          "execution_count": 4
        }
      ]
    },
    {
      "cell_type": "code",
      "metadata": {
        "colab": {
          "base_uri": "https://localhost:8080/"
        },
        "id": "YiuwcsKaZkYC",
        "outputId": "aa91958f-7779-4a78-8885-cb6276cbf2c0"
      },
      "source": [
        "\n",
        "False == 0\n",
        "True == 1\n",
        "True\n",
        "True\n",
        "\n",
        "\n",
        "False + 3 # False為0\n",
        "True + 3 # True為1\n",
        "\n"
      ],
      "execution_count": 5,
      "outputs": [
        {
          "output_type": "execute_result",
          "data": {
            "text/plain": [
              "4"
            ]
          },
          "metadata": {
            "tags": []
          },
          "execution_count": 5
        }
      ]
    },
    {
      "cell_type": "markdown",
      "metadata": {
        "id": "NhOEjCimaV0O"
      },
      "source": [
        "**關係條件比較**"
      ]
    },
    {
      "cell_type": "code",
      "metadata": {
        "id": "6_FR4XLmbv4_"
      },
      "source": [
        "In [1]: player_score = 0 # 這會把0放入變數Player_score\n",
        "   ...: player_score == 0 # 這會檢查player_Scor裡的值是否為0\n",
        "Out[1]: True\n",
        "    \n",
        "In [2]: name = \"Zoe\" # 將變數name設為值Zoe\n",
        "   ...: name == \"zoe\"\n",
        "Out[2]: False   "
      ],
      "execution_count": 8,
      "outputs": []
    },
    {
      "cell_type": "code",
      "metadata": {
        "colab": {
          "base_uri": "https://localhost:8080/"
        },
        "id": "Pe7zTzG-b8yA",
        "outputId": "05fd026c-5cd6-4305-8339-37e1fdd1aad4"
      },
      "source": [
        "print(8 == 7) \n",
        "print(8 != 7) \n",
        "print(8 > 7) \n",
        "print(8 >= 7)\n",
        "print(8 < 7)\n",
        "print(8 <= 7)"
      ],
      "execution_count": 9,
      "outputs": [
        {
          "output_type": "stream",
          "text": [
            "False\n",
            "True\n",
            "True\n",
            "True\n",
            "False\n",
            "False\n"
          ],
          "name": "stdout"
        }
      ]
    },
    {
      "cell_type": "code",
      "metadata": {
        "colab": {
          "base_uri": "https://localhost:8080/"
        },
        "id": "DQfUDtVRcQvU",
        "outputId": "e5896e25-ee39-4136-e951-e710d39aa211"
      },
      "source": [
        "movie_rating = 8.8\n",
        "print(movie_rating > 8.0)\n",
        "print(type(movie_rating > 8.0))"
      ],
      "execution_count": 10,
      "outputs": [
        {
          "output_type": "stream",
          "text": [
            "True\n",
            "<class 'bool'>\n"
          ],
          "name": "stdout"
        }
      ]
    },
    {
      "cell_type": "markdown",
      "metadata": {
        "id": "_g84fbTpci8O"
      },
      "source": [
        "隨堂練習 1：請輸入身分證字號，並判斷尾數是否為奇數?"
      ]
    },
    {
      "cell_type": "code",
      "metadata": {
        "id": "fw2u_oUWclDB"
      },
      "source": [
        ""
      ],
      "execution_count": null,
      "outputs": []
    },
    {
      "cell_type": "code",
      "metadata": {
        "colab": {
          "base_uri": "https://localhost:8080/"
        },
        "id": "Mq0alqqYd1qR",
        "outputId": "e6ce9b5d-6901-41b2-c2dd-ad66b3f6fa29"
      },
      "source": [
        "print(True and False)\n",
        "print(True and True)\n",
        "print(False and False)\n",
        "(False and True) "
      ],
      "execution_count": 11,
      "outputs": [
        {
          "output_type": "stream",
          "text": [
            "False\n",
            "True\n",
            "False\n"
          ],
          "name": "stdout"
        },
        {
          "output_type": "execute_result",
          "data": {
            "text/plain": [
              "False"
            ]
          },
          "metadata": {
            "tags": []
          },
          "execution_count": 11
        }
      ]
    },
    {
      "cell_type": "code",
      "metadata": {
        "colab": {
          "base_uri": "https://localhost:8080/"
        },
        "id": "Gb628RxfeEXa",
        "outputId": "01f60e78-6d91-4b51-985a-58a074fb9f09"
      },
      "source": [
        "\n",
        "print(True or False) \n",
        "print(True or True)\n",
        "print(False or False)\n",
        "print(False or True)\n"
      ],
      "execution_count": 12,
      "outputs": [
        {
          "output_type": "stream",
          "text": [
            "True\n",
            "True\n",
            "False\n",
            "True\n"
          ],
          "name": "stdout"
        }
      ]
    },
    {
      "cell_type": "code",
      "metadata": {
        "colab": {
          "base_uri": "https://localhost:8080/"
        },
        "id": "4mYg4gjVeRWF",
        "outputId": "dad3f529-6220-4abe-a660-b5a22afaea15"
      },
      "source": [
        "\n",
        "print(not True) # False\n",
        "print(not False) # True\n",
        "print(not(8 > 7)) # 反轉 8 是否大於 7 的判斷\n"
      ],
      "execution_count": 13,
      "outputs": [
        {
          "output_type": "stream",
          "text": [
            "False\n",
            "True\n",
            "False\n"
          ],
          "name": "stdout"
        },
        {
          "output_type": "execute_result",
          "data": {
            "text/plain": [
              "False"
            ]
          },
          "metadata": {
            "tags": []
          },
          "execution_count": 13
        }
      ]
    },
    {
      "cell_type": "code",
      "metadata": {
        "id": "QqmQ81t0ecd4"
      },
      "source": [
        "In [8]: x = 70\n",
        "\n",
        "In [9]: ((x > 60) and (x < 80))\n",
        "Out[9]: True\n",
        "\n",
        "In [10]: x = 60\n",
        "\n",
        "In [11]: ((x > 60) and (x < 80))\n",
        "Out[11]: False\n",
        "\n",
        "In [12]: ((x > 60) or (x < 80))\n",
        "Out[12]: True\n",
        "\n",
        "In [13]: not(x > 60)\n",
        "Out[13]: True"
      ],
      "execution_count": 14,
      "outputs": []
    },
    {
      "cell_type": "code",
      "metadata": {
        "colab": {
          "base_uri": "https://localhost:8080/"
        },
        "id": "DHzTQsLieqB5",
        "outputId": "7137b4af-db73-4b6a-ae2e-028fccc895ce"
      },
      "source": [
        " \n",
        "print(\"H\" in \"Hello world\") # 判斷H是否存在於Hello world 之中\n",
        "True\n",
        "\n",
        "\n",
        "x = 1\n",
        "y = [1,2,3]\n",
        "print(x in y)\n",
        "print(x not in y)\n"
      ],
      "execution_count": 15,
      "outputs": [
        {
          "output_type": "stream",
          "text": [
            "True\n",
            "True\n",
            "False\n"
          ],
          "name": "stdout"
        }
      ]
    },
    {
      "cell_type": "code",
      "metadata": {
        "colab": {
          "base_uri": "https://localhost:8080/"
        },
        "id": "MWGoksuhfblw",
        "outputId": "3b5cdac0-e1a7-49de-d569-d7629e081434"
      },
      "source": [
        "In [3]: x = [1,2,3]\n",
        "y = [1,2,3]\n",
        "print(id(x),id(y)) \n",
        "print(x is y) \n",
        "print(x == y) \n"
      ],
      "execution_count": 16,
      "outputs": [
        {
          "output_type": "stream",
          "text": [
            "139882317181248 139882317182128\n",
            "False\n",
            "True\n"
          ],
          "name": "stdout"
        },
        {
          "output_type": "execute_result",
          "data": {
            "text/plain": [
              "True"
            ]
          },
          "metadata": {
            "tags": []
          },
          "execution_count": 16
        }
      ]
    }
  ]
}