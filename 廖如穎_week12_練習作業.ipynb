{
  "nbformat": 4,
  "nbformat_minor": 0,
  "metadata": {
    "colab": {
      "name": "廖如穎-week12-練習作業.ipynb",
      "provenance": [],
      "collapsed_sections": [],
      "authorship_tag": "ABX9TyMsWVpDg3lVBvAVor7hamDa",
      "include_colab_link": true
    },
    "kernelspec": {
      "name": "python3",
      "display_name": "Python 3"
    },
    "language_info": {
      "name": "python"
    }
  },
  "cells": [
    {
      "cell_type": "markdown",
      "metadata": {
        "id": "view-in-github",
        "colab_type": "text"
      },
      "source": [
        "<a href=\"https://colab.research.google.com/github/SHU109010159/Computational-Thinking-and-Program-Design/blob/main/%E5%BB%96%E5%A6%82%E7%A9%8E_week12_%E7%B7%B4%E7%BF%92%E4%BD%9C%E6%A5%AD.ipynb\" target=\"_parent\"><img src=\"https://colab.research.google.com/assets/colab-badge.svg\" alt=\"Open In Colab\"/></a>"
      ]
    },
    {
      "cell_type": "code",
      "metadata": {
        "id": "w0qA8v0N26I3"
      },
      "source": [
        "num = int(input(\"5 \"))\n",
        "if num > 0\n",
        "print(\"數字為正數\")\n",
        "print(\"比較完畢\")\n",
        "\n",
        "\n",
        "\n"
      ],
      "execution_count": null,
      "outputs": []
    },
    {
      "cell_type": "code",
      "metadata": {
        "colab": {
          "base_uri": "https://localhost:8080/",
          "height": 130
        },
        "id": "J7nxB70i4Oo-",
        "outputId": "b71d86c3-80a3-4c78-d6b3-11f571e99fba"
      },
      "source": [
        "In [5]: num = int(input(\"5\"))\n",
        " \n",
        "if num > 0\n",
        "print(\"是正數\")\n",
        "if num < 0\n",
        "print(\"是負數\")\n",
        "if num == 0\n",
        "print(\"數字是0\")\n",
        "print(\"比較完畢！\")"
      ],
      "execution_count": null,
      "outputs": [
        {
          "output_type": "error",
          "ename": "SyntaxError",
          "evalue": "ignored",
          "traceback": [
            "\u001b[0;36m  File \u001b[0;32m\"<ipython-input-4-08dcf5ea8d7d>\"\u001b[0;36m, line \u001b[0;32m3\u001b[0m\n\u001b[0;31m    if num > 0\u001b[0m\n\u001b[0m              ^\u001b[0m\n\u001b[0;31mSyntaxError\u001b[0m\u001b[0;31m:\u001b[0m invalid syntax\n"
          ]
        }
      ]
    },
    {
      "cell_type": "code",
      "metadata": {
        "id": "dg99ANI14dVf"
      },
      "source": [
        "In [5]: num = int(input(\":5 \"))\n",
        "...:\n",
        "...: if num > 0:\n",
        "...: print(\"5\")\n",
        "...: if num < 0:\n",
        "...: print(\"-5\")\n",
        "...: if num == 0:\n",
        "...: print(\"0\")\n",
        "...: "
      ],
      "execution_count": null,
      "outputs": []
    },
    {
      "cell_type": "code",
      "metadata": {
        "colab": {
          "base_uri": "https://localhost:8080/",
          "height": 130
        },
        "id": "hyaMR8N37mwq",
        "outputId": "fe29b98f-b9a8-41f4-e65c-a6f574ef2ca8"
      },
      "source": [
        "numa = int(input(\"?\"))\n",
        "numb = int(input(\"5\"))\n",
        " \n",
        "if num_a < 0\n",
        "print(\"第一個是負數\")\n",
        "if num_b < 0:\n",
        "print(\"第二個也是負數\")\n",
        "print(\"比較完成\")"
      ],
      "execution_count": null,
      "outputs": [
        {
          "output_type": "error",
          "ename": "SyntaxError",
          "evalue": "ignored",
          "traceback": [
            "\u001b[0;36m  File \u001b[0;32m\"<ipython-input-6-e87b8102ae65>\"\u001b[0;36m, line \u001b[0;32m4\u001b[0m\n\u001b[0;31m    if num_a < 0\u001b[0m\n\u001b[0m                ^\u001b[0m\n\u001b[0;31mSyntaxError\u001b[0m\u001b[0;31m:\u001b[0m invalid syntax\n"
          ]
        }
      ]
    },
    {
      "cell_type": "code",
      "metadata": {
        "colab": {
          "base_uri": "https://localhost:8080/",
          "height": 130
        },
        "id": "ILtIeixL8jZW",
        "outputId": "1c01a17d-d169-496c-c713-0b59fc1ffb19"
      },
      "source": [
        "\n",
        "num_a = int(input(\"輸入第一個數字？5 \"))\n",
        "num_b = int(input(\"輸入第二個數字？7 \"))\n",
        "    \n",
        "if num_a < 0\n",
        "print(\"第一個是負數\")\n",
        "if num_b < 0:\n",
        "print(\"第二個是負數\")\n",
        "print(\"比較完成\")"
      ],
      "execution_count": null,
      "outputs": [
        {
          "output_type": "error",
          "ename": "SyntaxError",
          "evalue": "ignored",
          "traceback": [
            "\u001b[0;36m  File \u001b[0;32m\"<ipython-input-7-e2fe9927516b>\"\u001b[0;36m, line \u001b[0;32m5\u001b[0m\n\u001b[0;31m    if num_a < 0\u001b[0m\n\u001b[0m                ^\u001b[0m\n\u001b[0;31mSyntaxError\u001b[0m\u001b[0;31m:\u001b[0m invalid syntax\n"
          ]
        }
      ]
    },
    {
      "cell_type": "code",
      "metadata": {
        "colab": {
          "base_uri": "https://localhost:8080/",
          "height": 130
        },
        "id": "GS-dZ4Rn9hNm",
        "outputId": "1b12ac8f-92fd-40d8-8b4b-8a8e38849f0b"
      },
      "source": [
        "score = int(input('86'))\n",
        "if score >= 60:\n",
        "print('有及格ㄡ~')\n",
        "else:\n",
        "print('不及格ㄟ!')\n"
      ],
      "execution_count": null,
      "outputs": [
        {
          "output_type": "error",
          "ename": "IndentationError",
          "evalue": "ignored",
          "traceback": [
            "\u001b[0;36m  File \u001b[0;32m\"<ipython-input-11-7554fb8d8903>\"\u001b[0;36m, line \u001b[0;32m3\u001b[0m\n\u001b[0;31m    print('有及格ㄡ~')\u001b[0m\n\u001b[0m        ^\u001b[0m\n\u001b[0;31mIndentationError\u001b[0m\u001b[0;31m:\u001b[0m expected an indented block\n"
          ]
        }
      ]
    },
    {
      "cell_type": "code",
      "metadata": {
        "id": "Ry7df_3yGRzq"
      },
      "source": [
        ""
      ],
      "execution_count": null,
      "outputs": []
    },
    {
      "cell_type": "code",
      "metadata": {
        "id": "oXSzc_1Zf-EG",
        "colab": {
          "base_uri": "https://localhost:8080/",
          "height": 130
        },
        "outputId": "0b20baf6-62e5-41f6-9a82-aa70e5e0475f"
      },
      "source": [
        "In [1]: a = int(input('3'))\n",
        "     b = int(input('4'))\n",
        "     c = int(input('5'))\n",
        "     \n",
        "     if (a < b + c)and(b < a + c)and( c < a + b):   #任兩邊相加是否大於第三邊\n",
        "         print('可構成三角形')\n",
        "     else:\n",
        "        print('無法構成三角形')\n",
        "         "
      ],
      "execution_count": null,
      "outputs": [
        {
          "output_type": "error",
          "ename": "SyntaxError",
          "evalue": "ignored",
          "traceback": [
            "\u001b[0;36m  File \u001b[0;32m\"<ipython-input-2-caef49ea2a30>\"\u001b[0;36m, line \u001b[0;32m11\u001b[0m\n\u001b[0;31m    請輸入三角形邊長a長度為？3\u001b[0m\n\u001b[0m                 ^\u001b[0m\n\u001b[0;31mSyntaxError\u001b[0m\u001b[0;31m:\u001b[0m invalid character in identifier\n"
          ]
        }
      ]
    },
    {
      "cell_type": "markdown",
      "metadata": {
        "id": "Q4t5mk_g654x"
      },
      "source": [
        "隨堂練習: 判斷奇偶數\n",
        "請寫一個程式判斷輸入的值是奇數還是偶數"
      ]
    },
    {
      "cell_type": "code",
      "metadata": {
        "id": "KDBAmSxm7a_V"
      },
      "source": [
        "#### 範例：兩個數比大小\n",
        "\n",
        "In [1]: ## Input\n",
        "    ...: num1 = int(input(\"Please input a number: \"))\n",
        "    ...: num2 = int(input(\"Please input another number: \"))\n",
        "    ...: \n",
        "    ...: ## Process＋ Output\n",
        "    ...: if num1 == num2:\n",
        "    ...:     print(num1, \"等於\", num2)\n",
        "    ...: elif num1 < num2:\n",
        "    ...:     print(num1, \"小於\", num2)\n",
        "    ...: else:\n",
        "    ...:     print(num1, \"大於\", num2)\n",
        "\n"
      ],
      "execution_count": null,
      "outputs": []
    },
    {
      "cell_type": "code",
      "metadata": {
        "colab": {
          "base_uri": "https://localhost:8080/",
          "height": 130
        },
        "id": "9FYHLp_jYSYQ",
        "outputId": "808b8c0d-b319-4ae1-c045-20a124f8083c"
      },
      "source": [
        "某快遞公司以重量為計算郵資的依據，重量與郵資計算如下表，請寫一個程式協助快遞人員計算郵資，快遞人員只要輸入重量，程式自動計算郵資。\n",
        "\n",
        "In [1]: ## 郵資計算\n",
        "    ...: w = float(input('請輸入物品重量？')) # Input\n",
        "    ...: \n",
        "    ...: if w <= 5:                          \n",
        "    ...:     print('所需郵資為50元')\n",
        "    ...: elif w <= 10:\n",
        "    ...:     print('所需郵資為70元')\n",
        "    ...: elif w <= 15:\n",
        "    ...:     print('所需郵資為90元')\n",
        "    ...: elif w <= 20:\n",
        "    ...:     print('所需郵資為110元')\n",
        "    ...: else:\n",
        "    ...:     print('超過20公斤無法寄送')"
      ],
      "execution_count": 1,
      "outputs": [
        {
          "output_type": "error",
          "ename": "SyntaxError",
          "evalue": "ignored",
          "traceback": [
            "\u001b[0;36m  File \u001b[0;32m\"<ipython-input-1-81dc2c1757b8>\"\u001b[0;36m, line \u001b[0;32m1\u001b[0m\n\u001b[0;31m    某快遞公司以重量為計算郵資的依據，重量與郵資計算如下表，請寫一個程式協助快遞人員計算郵資，快遞人員只要輸入重量，程式自動計算郵資。\u001b[0m\n\u001b[0m                                                                    ^\u001b[0m\n\u001b[0;31mSyntaxError\u001b[0m\u001b[0;31m:\u001b[0m invalid character in identifier\n"
          ]
        }
      ]
    },
    {
      "cell_type": "markdown",
      "metadata": {
        "id": "b0EDYi-tYbeu"
      },
      "source": [
        "隨堂練習： BMI 計算\n",
        "請寫一個程式讓使用者輸入身高與體重，顯示BMI 值與肥胖程度。\n"
      ]
    }
  ]
}