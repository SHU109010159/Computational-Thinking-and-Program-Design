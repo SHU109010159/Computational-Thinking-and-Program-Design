{
  "nbformat": 4,
  "nbformat_minor": 0,
  "metadata": {
    "colab": {
      "name": "廖如穎-week3-練習作業.ipynb",
      "provenance": [],
      "collapsed_sections": [],
      "authorship_tag": "ABX9TyMII/rBMhtHnBrnQvv0eQqu",
      "include_colab_link": true
    },
    "kernelspec": {
      "name": "python3",
      "display_name": "Python 3"
    }
  },
  "cells": [
    {
      "cell_type": "markdown",
      "metadata": {
        "id": "view-in-github",
        "colab_type": "text"
      },
      "source": [
        "<a href=\"https://colab.research.google.com/github/SHU109010159/Computational-Thinking-and-Program-Design/blob/main/%E5%BB%96%E5%A6%82%E7%A9%8E_week3_%E7%B7%B4%E7%BF%92%E4%BD%9C%E6%A5%AD.ipynb\" target=\"_parent\"><img src=\"https://colab.research.google.com/assets/colab-badge.svg\" alt=\"Open In Colab\"/></a>"
      ]
    },
    {
      "cell_type": "code",
      "metadata": {
        "id": "knSXGpA-MdsK"
      },
      "source": [
        ""
      ],
      "execution_count": null,
      "outputs": []
    },
    {
      "cell_type": "markdown",
      "metadata": {
        "id": "fHnGx51dNAuR"
      },
      "source": [
        "#隨堂練習\n",
        "\n"
      ]
    },
    {
      "cell_type": "markdown",
      "metadata": {
        "id": "PCDnNOO8Nqax"
      },
      "source": [
        ""
      ]
    },
    {
      "cell_type": "code",
      "metadata": {
        "colab": {
          "base_uri": "https://localhost:8080/"
        },
        "id": "nJDPtJaeNtcA",
        "outputId": "7377408d-6aab-4f01-af9b-903aa820e35f"
      },
      "source": [
        "print(1+1)\n",
        "    "
      ],
      "execution_count": null,
      "outputs": [
        {
          "output_type": "stream",
          "text": [
            "2\n"
          ],
          "name": "stdout"
        }
      ]
    },
    {
      "cell_type": "markdown",
      "metadata": {
        "id": "ygDc08cKNhcg"
      },
      "source": [
        ""
      ]
    },
    {
      "cell_type": "markdown",
      "metadata": {
        "id": "Y0imN-M2Nh5Q"
      },
      "source": [
        "#課後作業\n",
        "(2)課後練習則為從一則新聞報導，提出你對新聞系（OO系）學生為什麼要學「運算思維與程式設計」的見解。\n",
        "\n",
        "\n"
      ]
    },
    {
      "cell_type": "markdown",
      "metadata": {
        "id": "Qis1BFxvX2z_"
      },
      "source": [
        ""
      ]
    },
    {
      "cell_type": "markdown",
      "metadata": {
        "id": "ON36HcM0WeVN"
      },
      "source": [
        "專家宣稱未來可能分為二種人，第一種是會寫程式的人，第二種是不會寫程式的人。而這類人處於劣勢。\n",
        "\n",
        "在生活中電腦軟體無所不在，所以我們必須學會如何進一步應用程式方便我們的生活。大至機器人，小至數據分析，這些程式應用可以使我們的生活更便利。台灣的程式設計課程普及較晚，而許多人也認為「程式設計該不該普及」成為課綱探討的問題之一。\n",
        "\n",
        "我認為新聞系學習程式設計除了在寫新聞有幫助外，更能增強我們的思維，活化邏輯與思考能力，身為新聞人，我們需要明辨是非的能力，程式設計就概括了上述我所說的兩種能力之訓練。"
      ]
    }
  ]
}