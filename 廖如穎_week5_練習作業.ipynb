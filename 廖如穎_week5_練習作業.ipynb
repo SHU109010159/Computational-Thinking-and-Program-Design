{
  "nbformat": 4,
  "nbformat_minor": 0,
  "metadata": {
    "colab": {
      "name": "廖如穎-week5-練習作業.ipynb",
      "provenance": [],
      "collapsed_sections": [],
      "authorship_tag": "ABX9TyNuArqjcZrkHXC1cfU0MpTj",
      "include_colab_link": true
    },
    "kernelspec": {
      "name": "python3",
      "display_name": "Python 3"
    },
    "language_info": {
      "name": "python"
    }
  },
  "cells": [
    {
      "cell_type": "markdown",
      "metadata": {
        "id": "view-in-github",
        "colab_type": "text"
      },
      "source": [
        "<a href=\"https://colab.research.google.com/github/SHU109010159/Computational-Thinking-and-Program-Design/blob/main/%E5%BB%96%E5%A6%82%E7%A9%8E_week5_%E7%B7%B4%E7%BF%92%E4%BD%9C%E6%A5%AD.ipynb\" target=\"_parent\"><img src=\"https://colab.research.google.com/assets/colab-badge.svg\" alt=\"Open In Colab\"/></a>"
      ]
    },
    {
      "cell_type": "code",
      "metadata": {
        "colab": {
          "base_uri": "https://localhost:8080/"
        },
        "id": "x8K-pKXrPXQT",
        "outputId": "7241687c-1cad-476d-9632-cd5c3af0ee25"
      },
      "source": [
        "print('hello,ringing')"
      ],
      "execution_count": 1,
      "outputs": [
        {
          "output_type": "stream",
          "text": [
            "hello,ringing\n"
          ],
          "name": "stdout"
        }
      ]
    },
    {
      "cell_type": "code",
      "metadata": {
        "colab": {
          "base_uri": "https://localhost:8080/"
        },
        "id": "BbJfmzF8WokE",
        "outputId": "fadc17cc-afb8-45c7-e42e-4d5c2a4191d1"
      },
      "source": [
        "print(f\"hello, ringing\")"
      ],
      "execution_count": 15,
      "outputs": [
        {
          "output_type": "stream",
          "text": [
            "hello, ringing\n"
          ],
          "name": "stdout"
        }
      ]
    },
    {
      "cell_type": "code",
      "metadata": {
        "colab": {
          "base_uri": "https://localhost:8080/"
        },
        "id": "8Y8uAkDXXv20",
        "outputId": "7ca2e678-ecde-4e09-e976-1dd4d13b0130"
      },
      "source": [
        "print(\"hello, my name is ringing.I was born in 2002\")"
      ],
      "execution_count": 26,
      "outputs": [
        {
          "output_type": "stream",
          "text": [
            "hello, my name is ringing.I was born in 2002\n"
          ],
          "name": "stdout"
        }
      ]
    },
    {
      "cell_type": "code",
      "metadata": {
        "id": "--0pwgAocAOs"
      },
      "source": [
        "name = \"Kid\"\n",
        "adjective = \"masculine\"\n",
        "favorite_snack = \"cream pie\"\n",
        "number = \"69\"\n",
        "type_of_tree = \"watermelon tree\""
      ],
      "execution_count": null,
      "outputs": []
    }
  ]
}