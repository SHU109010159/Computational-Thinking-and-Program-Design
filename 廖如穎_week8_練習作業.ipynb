{
  "nbformat": 4,
  "nbformat_minor": 0,
  "metadata": {
    "colab": {
      "name": "廖如穎-week8-練習作業.ipynb",
      "provenance": [],
      "collapsed_sections": [],
      "authorship_tag": "ABX9TyNw38QH1hocrKLNwjOwGQoP",
      "include_colab_link": true
    },
    "kernelspec": {
      "name": "python3",
      "display_name": "Python 3"
    },
    "language_info": {
      "name": "python"
    }
  },
  "cells": [
    {
      "cell_type": "markdown",
      "metadata": {
        "id": "view-in-github",
        "colab_type": "text"
      },
      "source": [
        "<a href=\"https://colab.research.google.com/github/SHU109010159/Computational-Thinking-and-Program-Design/blob/main/%E5%BB%96%E5%A6%82%E7%A9%8E_week8_%E7%B7%B4%E7%BF%92%E4%BD%9C%E6%A5%AD.ipynb\" target=\"_parent\"><img src=\"https://colab.research.google.com/assets/colab-badge.svg\" alt=\"Open In Colab\"/></a>"
      ]
    },
    {
      "cell_type": "code",
      "metadata": {
        "id": "XTkuKhc-ZDSQ"
      },
      "source": [
        ""
      ],
      "execution_count": null,
      "outputs": []
    },
    {
      "cell_type": "code",
      "metadata": {
        "colab": {
          "base_uri": "https://localhost:8080/"
        },
        "id": "BhSPaLGLa6QV",
        "outputId": "d90041db-2af1-4792-efe9-9c3e6b989ef6"
      },
      "source": [
        "## Input\n",
        "a = 13\n",
        "b = 11\n",
        "## Process\n",
        "t = a\n",
        "a = b\n",
        "b = t\n",
        "## Output\n",
        "print(\"a=\",a,\"b=\",b)\n"
      ],
      "execution_count": null,
      "outputs": [
        {
          "output_type": "stream",
          "text": [
            "a= 11 b= 13\n"
          ],
          "name": "stdout"
        }
      ]
    },
    {
      "cell_type": "markdown",
      "metadata": {
        "id": "ROajnf81b538"
      },
      "source": [
        ""
      ]
    },
    {
      "cell_type": "code",
      "metadata": {
        "id": "ki86rGO3cD8M"
      },
      "source": [
        "## Input\n",
        "a,b,c,d,e,f = eval(input(\"Enter a number\"))\n",
        "\n",
        "## Process\n",
        "a = a//3 \n",
        "b = b + a \n",
        "f + f + a\n",
        "print(f\"a = {a} b = {b} c = {c} d = {d} e = {e} f = {f}\")\n",
        "b + b//3 \n",
        "a = a + b \n",
        "c = c + b\n",
        "print(f\"a = {a} b = {b} c = {c} d = {d} e = {e} f = {f}\")\n",
        "## Output\n"
      ],
      "execution_count": null,
      "outputs": []
    },
    {
      "cell_type": "code",
      "metadata": {
        "id": "7ry7mMjvkVf-"
      },
      "source": [
        "In [1]: ## Total = P1*Q1 + P2*Q2 + P3*Q3\n",
        "...: ## Input Data\n",
        "...: cloth = int(input('請輸入上衣數量？'))\n",
        "...: trousers = int(input('請輸入褲子數量？'))\n",
        "...: vest = int(input('請輸入背心數量？'))\n",
        "...: ## Process\n",
        "...: total = cloth*300 + trousers*350 + vest*400\n",
        "...: ## Output\n",
        "...: print('訂購服裝的總金額為', total)"
      ],
      "execution_count": null,
      "outputs": []
    },
    {
      "cell_type": "code",
      "metadata": {
        "id": "So0UGgOvmXUA"
      },
      "source": [
        "In [1]: ## 計算三次成績的總和與平均\n",
        "...: ## Input Data\n",
        "...: first = int(input('請輸入第一次期中考成績？'))\n",
        "...: second = int(input('請輸入第二次期中考成績？'))\n",
        "...: final = int(input('請輸入期末考成績？'))\n",
        "...: ## Process\n",
        "...: sum = first + second + final\n",
        "...: average = sum/3\n",
        "...: ## Output\n",
        "...: print('總分為', sum, '平均為', average)"
      ],
      "execution_count": null,
      "outputs": []
    },
    {
      "cell_type": "code",
      "metadata": {
        "id": "lO0fHk1ClmKH"
      },
      "source": [
        ": player_name = input(\"請輸入球員姓名：\")\n",
        "...: player_height = input(\"請輸入球員身高（cm）：\")\n",
        "...: player_weight = input(\"請輸入球員體重（kg）：\")\n",
        "...:\n",
        "...: player_height = float(player_height)\n",
        "...: player_weight = float(player_weight)\n",
        "...: player_bmi = player_weight/(player_height*0.01)**2\n",
        "...:\n",
        "...: print(\"{}的身體質量指數為：{:.2f}\".format(player_name, player_bmi))\n",
        "...: print(player_name,'的身體質量指數為', player_bmi )"
      ],
      "execution_count": null,
      "outputs": []
    }
  ]
}